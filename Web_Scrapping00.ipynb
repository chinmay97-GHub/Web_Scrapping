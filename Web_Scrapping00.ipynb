{
 "cells": [
  {
   "cell_type": "markdown",
   "metadata": {},
   "source": [
    "<span style='color:#0086FF;\n",
    "            font-size:200%'>\n",
    "<b>Web Scrapping</b>\n",
    "\n",
    "- Extracting stock price from yahoo finance"
   ]
  },
  {
   "cell_type": "code",
   "execution_count": 54,
   "metadata": {},
   "outputs": [],
   "source": [
    "# Importing required library\n",
    "import requests\n",
    "from bs4 import BeautifulSoup\n",
    "import pandas as pd\n",
    "import datetime"
   ]
  },
  {
   "cell_type": "code",
   "execution_count": 52,
   "metadata": {},
   "outputs": [],
   "source": [
    "# Creating a function\n",
    "def getData(ticker):\n",
    "    headers = {'User-Agent':'Mozilla/5.0 (Windows NT 10.0; Win64; x64) AppleWebKit/537.36 (KHTML, like Gecko) Chrome/91.0.4472.124 Safari/537.36'}\n",
    "    url = f'https://in.finance.yahoo.com/quote/{ticker}'\n",
    "    r=requests.get(url, headers=headers)\n",
    "    soup = BeautifulSoup(r.text,'html.parser')\n",
    "    stock={\n",
    "        'Name':ticker,\n",
    "        'Price':soup.find('div',{'class':'My(6px) Pos(r) smartphone_Mt(6px)'}).find_all('span')[0].text,\n",
    "        'Change':soup.find('div',{'class':'My(6px) Pos(r) smartphone_Mt(6px)'}).find_all('span')[1].text\n",
    "    }\n",
    "    return stock"
   ]
  },
  {
   "cell_type": "code",
   "execution_count": 53,
   "metadata": {},
   "outputs": [
    {
     "data": {
      "text/plain": [
       "{'Name': 'IRCTC.NS', 'Price': '2,426.65', 'Change': '+158.35 (+6.98%)'}"
      ]
     },
     "execution_count": 53,
     "metadata": {},
     "output_type": "execute_result"
    }
   ],
   "source": [
    "# Calling the function\n",
    "getData('IRCTC.NS')"
   ]
  },
  {
   "cell_type": "code",
   "execution_count": 51,
   "metadata": {},
   "outputs": [
    {
     "name": "stdout",
     "output_type": "stream",
     "text": [
      "Getting: CDSL.NS\n",
      "Getting: HAPPSTMNDS.NS\n",
      "Getting: RELIANCE.NS\n",
      "Getting: ^BSESN\n",
      "Getting: ^NSEI\n",
      "Getting: INFY.NS\n"
     ]
    },
    {
     "data": {
      "text/html": [
       "<div>\n",
       "<style scoped>\n",
       "    .dataframe tbody tr th:only-of-type {\n",
       "        vertical-align: middle;\n",
       "    }\n",
       "\n",
       "    .dataframe tbody tr th {\n",
       "        vertical-align: top;\n",
       "    }\n",
       "\n",
       "    .dataframe thead th {\n",
       "        text-align: right;\n",
       "    }\n",
       "</style>\n",
       "<table border=\"1\" class=\"dataframe\">\n",
       "  <thead>\n",
       "    <tr style=\"text-align: right;\">\n",
       "      <th></th>\n",
       "      <th>Name</th>\n",
       "      <th>Price</th>\n",
       "      <th>Change</th>\n",
       "    </tr>\n",
       "  </thead>\n",
       "  <tbody>\n",
       "    <tr>\n",
       "      <th>0</th>\n",
       "      <td>CDSL.NS</td>\n",
       "      <td>1,449.30</td>\n",
       "      <td>+49.80 (+3.56%)</td>\n",
       "    </tr>\n",
       "    <tr>\n",
       "      <th>1</th>\n",
       "      <td>HAPPSTMNDS.NS</td>\n",
       "      <td>1,494.30</td>\n",
       "      <td>+17.55 (+1.19%)</td>\n",
       "    </tr>\n",
       "    <tr>\n",
       "      <th>2</th>\n",
       "      <td>RELIANCE.NS</td>\n",
       "      <td>2,112.40</td>\n",
       "      <td>+30.05 (+1.44%)</td>\n",
       "    </tr>\n",
       "    <tr>\n",
       "      <th>3</th>\n",
       "      <td>^BSESN</td>\n",
       "      <td>53,140.06</td>\n",
       "      <td>-18.79 (-0.04%)</td>\n",
       "    </tr>\n",
       "    <tr>\n",
       "      <th>4</th>\n",
       "      <td>^NSEI</td>\n",
       "      <td>15,923.40</td>\n",
       "      <td>-0.80 (-0.01%)</td>\n",
       "    </tr>\n",
       "    <tr>\n",
       "      <th>5</th>\n",
       "      <td>INFY.NS</td>\n",
       "      <td>1,555.45</td>\n",
       "      <td>-25.35 (-1.60%)</td>\n",
       "    </tr>\n",
       "  </tbody>\n",
       "</table>\n",
       "</div>"
      ],
      "text/plain": [
       "            Name      Price           Change\n",
       "0        CDSL.NS   1,449.30  +49.80 (+3.56%)\n",
       "1  HAPPSTMNDS.NS   1,494.30  +17.55 (+1.19%)\n",
       "2    RELIANCE.NS   2,112.40  +30.05 (+1.44%)\n",
       "3         ^BSESN  53,140.06  -18.79 (-0.04%)\n",
       "4          ^NSEI  15,923.40   -0.80 (-0.01%)\n",
       "5        INFY.NS   1,555.45  -25.35 (-1.60%)"
      ]
     },
     "execution_count": 51,
     "metadata": {},
     "output_type": "execute_result"
    }
   ],
   "source": [
    "# Using for loop to extract the data into dataframe\n",
    "mystocks = ['CDSL.NS','HAPPSTMNDS.NS','RELIANCE.NS','^BSESN','^NSEI','INFY.NS']\n",
    "stockdata = []\n",
    "\n",
    "for item in mystocks:\n",
    "    stockdata.append(getData(item))\n",
    "    print('Getting:', item)\n",
    "df = pd.DataFrame(stockdata)\n",
    "df"
   ]
  },
  {
   "cell_type": "code",
   "execution_count": 62,
   "metadata": {
    "scrolled": true
   },
   "outputs": [
    {
     "name": "stdout",
     "output_type": "stream",
     "text": [
      "['2021-07-16 23:14:22', '1,449.30', '1,494.30']\n",
      "['2021-07-16 23:14:27', '1,449.30', '1,494.30']\n",
      "['2021-07-16 23:14:31', '1,449.30', '1,494.30']\n",
      "['2021-07-16 23:14:37', '1,449.30', '1,494.30']\n",
      "['2021-07-16 23:14:42', '1,449.30', '1,494.30']\n",
      "['2021-07-16 23:14:46', '1,449.30', '1,494.30']\n",
      "['2021-07-16 23:14:53', '1,449.30', '1,494.30']\n",
      "['2021-07-16 23:14:58', '1,449.30', '1,494.30']\n",
      "['2021-07-16 23:15:03', '1,449.30', '1,494.30']\n"
     ]
    }
   ],
   "source": [
    "def getData(ticker):\n",
    "    headers = {'User-Agent':'Mozilla/5.0 (Windows NT 10.0; Win64; x64) AppleWebKit/537.36 (KHTML, like Gecko) Chrome/91.0.4472.124 Safari/537.36'}\n",
    "    url = f'https://in.finance.yahoo.com/quote/{ticker}'\n",
    "    r=requests.get(url, headers=headers)\n",
    "    soup = BeautifulSoup(r.text,'html.parser')\n",
    "    price=soup.find('div',{'class':'My(6px) Pos(r) smartphone_Mt(6px)'}).find_all('span')[0].text\n",
    "    if price == []:\n",
    "        price = 9999999,\n",
    "    return price\n",
    "\n",
    "# Creating list of some stocks\n",
    "mystock = ['CDSL.NS','HAPPSTMNDS.NS']\n",
    "\n",
    "# for loop for extracting live price\n",
    "for step in range(1, 10):\n",
    "    price_d=[]\n",
    "    col=[]\n",
    "    time_stamp=datetime.datetime.now()\n",
    "    time_stamp=time_stamp.strftime('%Y-%m-%d %H:%M:%S')\n",
    "    for stockcode in mystock:\n",
    "        price_d.append(getData(stockcode))\n",
    "    col=[time_stamp]\n",
    "    col.extend(price_d)\n",
    "    df=pd.DataFrame(col)\n",
    "    print(col)\n"
   ]
  },
  {
   "cell_type": "code",
   "execution_count": null,
   "metadata": {},
   "outputs": [],
   "source": []
  }
 ],
 "metadata": {
  "kernelspec": {
   "display_name": "Python 3",
   "language": "python",
   "name": "python3"
  },
  "language_info": {
   "codemirror_mode": {
    "name": "ipython",
    "version": 3
   },
   "file_extension": ".py",
   "mimetype": "text/x-python",
   "name": "python",
   "nbconvert_exporter": "python",
   "pygments_lexer": "ipython3",
   "version": "3.7.4"
  }
 },
 "nbformat": 4,
 "nbformat_minor": 2
}
